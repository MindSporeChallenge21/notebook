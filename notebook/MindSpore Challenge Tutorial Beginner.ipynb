{
 "cells": [
  {
   "cell_type": "markdown",
   "id": "f6b90281",
   "metadata": {},
   "source": [
    "# MindSpore Challenge Tutorial (Beginner)\n",
    "\n",
    "Throughout this tutorial we will cover [MindSpore](https://www.mindspore.cn/doc/api_python/en/r1.2/index.html)'s common modules\n",
    "- MindSpore Dataset [mindspore.dataset][ms dataset]\n",
    "- MindSpore Neural Network [mindspore.nn][ms nn]\n",
    "- MindSpore Operators [mindspore.ops][ms ops]\n",
    "- Training and creating MindSpore Models.\n",
    "\n",
    "Prerequisite:\n",
    "- Understanding of Python and Python common packages\n",
    "- Understanding of operations and  of common machine learning libraries (Nice to have)\n",
    "- Understanding of designing, training, evaluation of machine learning libraries (Nice to have)\n",
    "\n",
    "We will be referencing from [MindSpore Course](https://www.mindspore.cn/tutorial/zh-CN/r1.2/quick_start.html)'s LeNet5 on MNIST Dataset\n",
    "\n",
    "[ms dataset]: https://www.mindspore.cn/doc/api_python/en/r1.2/mindspore/mindspore.dataset.html\n",
    "[ms nn]: https://www.mindspore.cn/doc/api_python/en/r1.2/mindspore/mindspore.nn.html\n",
    "[ms ops]: https://www.mindspore.cn/doc/api_python/en/r1.2/mindspore/mindspore.ops.html\n",
    "\n",
    "## Obtaining notebook https://github.com/MindSporeChallenge21/resources\n",
    "Visit the link above to download this notebook so you can try on your own."
   ]
  },
  {
   "cell_type": "markdown",
   "id": "89a87209",
   "metadata": {
    "tags": []
   },
   "source": [
    "## Importing Libraries"
   ]
  },
  {
   "cell_type": "code",
   "execution_count": 1,
   "id": "e934c171",
   "metadata": {},
   "outputs": [],
   "source": [
    "from pathlib import Path\n",
    "import json\n",
    "from copy import copy\n",
    "\n",
    "import math\n",
    "import pandas as pd\n",
    "import numpy as np\n",
    "from easydict import EasyDict as ed\n",
    "from scipy import interpolate\n",
    "\n",
    "import requests\n",
    "\n",
    "import mindspore as ms\n",
    "from mindspore import nn\n",
    "from mindspore.common.initializer import Normal\n",
    "from mindspore import dataset\n",
    "\n",
    "import cv2\n",
    "from PIL import Image\n",
    "\n",
    "from matplotlib import pyplot as plt"
   ]
  },
  {
   "cell_type": "markdown",
   "id": "dbcdd326",
   "metadata": {},
   "source": [
    "## MindSpore Basics\n",
    "\n",
    "1. Creating a [MindSpore Dataset][ms dataset] object\n",
    "2. Creating a [MindSpore Neural Network][ms nn]\n",
    "3. Training the [MindSpore Neural Network][ms nn]\n",
    "\n",
    "[ms dataset]: https://www.mindspore.cn/doc/api_python/en/r1.2/mindspore/mindspore.dataset.html\n",
    "[ms nn]: https://www.mindspore.cn/doc/api_python/en/r1.2/mindspore/mindspore.nn.html\n",
    "[ms ops]: https://www.mindspore.cn/doc/api_python/en/r1.2/mindspore/mindspore.ops.html"
   ]
  },
  {
   "cell_type": "markdown",
   "id": "c2dd706c",
   "metadata": {},
   "source": [
    "## MindSpore Context\n",
    "\n",
    "You need to specify the type of the backend you are going to use, namely: `CPU`, `GPU`, `Ascend`.\n",
    "\n",
    "`Ascend` is a Neural Processing Unit(NPU) developed by Huawei, it will significantly speed up the process of training a model, which we will try later.\n",
    "\n",
    "For the mode of execution, there is two choices, `GRAPH_MODE` or `PYNATIVE_MODE`.\n",
    "\n",
    "`GRAPH_MODE` are designed for training purposes, with faster execution performance, but is generally harder for development.\n",
    "\n",
    "`PYNATIVE_MODE` are design for development purposes, with slower execution performance, but allows neural network to easily modified.\n",
    "\n",
    "For more information see [`mindspore.context.set_context`](https://www.mindspore.cn/doc/api_python/en/r1.2/mindspore/mindspore.context.html)"
   ]
  },
  {
   "cell_type": "code",
   "execution_count": 2,
   "id": "0f79621f",
   "metadata": {},
   "outputs": [],
   "source": [
    "ms.context.set_context(device_target='GPU', mode=ms.context.GRAPH_MODE)"
   ]
  },
  {
   "cell_type": "markdown",
   "id": "16c49f44",
   "metadata": {},
   "source": [
    "\n",
    "## Downloading MNIST Data and creating a MindSpore Dataset object.\n",
    "\n",
    "We can create a MindSpore Dataset object with the [mindspore.dataset][ms dataset] module. \n",
    "\n",
    "There is a [MnistDataset][ms mnist dataset] class for importing MnistDatasets.\n",
    "\n",
    "[ms dataset]: https://www.mindspore.cn/doc/api_python/en/r1.2/mindspore/mindspore.dataset.html\n",
    "[ms mnist dataset]: https://www.mindspore.cn/doc/api_python/zh-CN/r1.2/mindspore/dataset/mindspore.dataset.MnistDataset.html#mindspore.dataset.MnistDataset"
   ]
  },
  {
   "cell_type": "code",
   "execution_count": 3,
   "id": "ca5721ed",
   "metadata": {},
   "outputs": [
    {
     "name": "stdout",
     "output_type": "stream",
     "text": [
      "--2021-09-16 12:52:49--  https://mindspore-website.obs.myhuaweicloud.com/notebook/datasets/mnist/train-labels-idx1-ubyte\n",
      "Resolving mindspore-website.obs.myhuaweicloud.com (mindspore-website.obs.myhuaweicloud.com)... 100.125.80.126\n",
      "Connecting to mindspore-website.obs.myhuaweicloud.com (mindspore-website.obs.myhuaweicloud.com)|100.125.80.126|:443... connected.\n",
      "HTTP request sent, awaiting response... 304 Not Modified\n",
      "File ‘./datasets/MNIST_Data/train/train-labels-idx1-ubyte’ not modified on server. Omitting download.\n",
      "\n",
      "--2021-09-16 12:52:50--  https://mindspore-website.obs.myhuaweicloud.com/notebook/datasets/mnist/train-images-idx3-ubyte\n",
      "Resolving mindspore-website.obs.myhuaweicloud.com (mindspore-website.obs.myhuaweicloud.com)... 100.125.80.126\n",
      "Connecting to mindspore-website.obs.myhuaweicloud.com (mindspore-website.obs.myhuaweicloud.com)|100.125.80.126|:443... connected.\n",
      "HTTP request sent, awaiting response... 304 Not Modified\n",
      "File ‘./datasets/MNIST_Data/train/train-images-idx3-ubyte’ not modified on server. Omitting download.\n",
      "\n",
      "--2021-09-16 12:52:50--  https://mindspore-website.obs.myhuaweicloud.com/notebook/datasets/mnist/t10k-labels-idx1-ubyte\n",
      "Resolving mindspore-website.obs.myhuaweicloud.com (mindspore-website.obs.myhuaweicloud.com)... 100.125.80.126\n",
      "Connecting to mindspore-website.obs.myhuaweicloud.com (mindspore-website.obs.myhuaweicloud.com)|100.125.80.126|:443... connected.\n",
      "HTTP request sent, awaiting response... 304 Not Modified\n",
      "File ‘./datasets/MNIST_Data/test/t10k-labels-idx1-ubyte’ not modified on server. Omitting download.\n",
      "\n",
      "--2021-09-16 12:52:50--  https://mindspore-website.obs.myhuaweicloud.com/notebook/datasets/mnist/t10k-images-idx3-ubyte\n",
      "Resolving mindspore-website.obs.myhuaweicloud.com (mindspore-website.obs.myhuaweicloud.com)... 100.125.80.126\n",
      "Connecting to mindspore-website.obs.myhuaweicloud.com (mindspore-website.obs.myhuaweicloud.com)|100.125.80.126|:443... connected.\n",
      "HTTP request sent, awaiting response... 304 Not Modified\n",
      "File ‘./datasets/MNIST_Data/test/t10k-images-idx3-ubyte’ not modified on server. Omitting download.\n",
      "\n"
     ]
    }
   ],
   "source": [
    "!mkdir -p ./datasets/MNIST_Data/train ./datasets/MNIST_Data/test\n",
    "!wget -NP ./datasets/MNIST_Data/train https://mindspore-website.obs.myhuaweicloud.com/notebook/datasets/mnist/train-labels-idx1-ubyte\n",
    "!wget -NP ./datasets/MNIST_Data/train https://mindspore-website.obs.myhuaweicloud.com/notebook/datasets/mnist/train-images-idx3-ubyte\n",
    "!wget -NP ./datasets/MNIST_Data/test https://mindspore-website.obs.myhuaweicloud.com/notebook/datasets/mnist/t10k-labels-idx1-ubyte\n",
    "!wget -NP ./datasets/MNIST_Data/test https://mindspore-website.obs.myhuaweicloud.com/notebook/datasets/mnist/t10k-images-idx3-ubyte\n"
   ]
  },
  {
   "cell_type": "code",
   "execution_count": 4,
   "id": "e3c64cdd",
   "metadata": {},
   "outputs": [],
   "source": [
    "mnist_dataset_path = Path('datasets') / 'MNIST_Data'\n",
    "\n",
    "mnist_train_dataset_path = mnist_dataset_path / 'train'\n",
    "mnist_test_dataset_path = mnist_dataset_path / 'test'"
   ]
  },
  {
   "cell_type": "code",
   "execution_count": 5,
   "id": "167de15f",
   "metadata": {},
   "outputs": [],
   "source": [
    "import mindspore.dataset.transforms.c_transforms as C\n",
    "import mindspore.dataset.vision.c_transforms as CV\n",
    "\n",
    "# creating a mindspore dataset\n",
    "def create_dataset(mnist_dataset_path, batch_size=32, num_parallel_workers=2):\n",
    "    \n",
    "    # use MnistDataset to read the donwloaded data\n",
    "    dataset = ms.dataset.MnistDataset(str(mnist_train_dataset_path))\n",
    "    \n",
    "    # define variables\n",
    "    resize_height, resize_width = 32, 32\n",
    "    rescale = 1.0 / 255.0\n",
    "    shift = 0.0\n",
    "\n",
    "    # define operations\n",
    "    rescale_op = CV.Rescale(rescale, shift)\n",
    "    hwc2chw_op = CV.HWC2CHW()\n",
    "    type_cast_op = C.TypeCast(ms.dtype.int32)\n",
    "\n",
    "    # labels to int32\n",
    "    dataset = dataset.map(\n",
    "        operations=type_cast_op, \n",
    "        input_columns=\"label\", \n",
    "        num_parallel_workers=num_parallel_workers\n",
    "    )\n",
    "    \n",
    "    # image values to [0,1]\n",
    "    # image from HWC to CHW  <- requirements for convolution\n",
    "    dataset = dataset.map(\n",
    "        operations=[rescale_op, hwc2chw_op], \n",
    "        input_columns=\"image\", \n",
    "        num_parallel_workers=num_parallel_workers\n",
    "    )\n",
    "    \n",
    "    # perform shuffling and batching\n",
    "    buffer_size = 10000\n",
    "    dataset = dataset.shuffle(buffer_size=buffer_size)\n",
    "    dataset = dataset.batch(batch_size, drop_remainder=True)\n",
    "    \n",
    "    return dataset"
   ]
  },
  {
   "cell_type": "code",
   "execution_count": 6,
   "id": "576f68fe",
   "metadata": {},
   "outputs": [],
   "source": [
    "mnist_train_ds = create_dataset(mnist_train_dataset_path, 128)\n",
    "mnist_test_ds = create_dataset(mnist_test_dataset_path, 128)\n",
    "\n",
    "for i in mnist_train_ds.create_dict_iterator():\n",
    "    plt.imshow(i['image'].asnumpy()[0,0])\n",
    "    break"
   ]
  },
  {
   "cell_type": "code",
   "execution_count": 7,
   "id": "a392e3e2",
   "metadata": {},
   "outputs": [
    {
     "name": "stdout",
     "output_type": "stream",
     "text": [
      "Train Dataset Size: 468 Testing Dataset Size: 468\n"
     ]
    }
   ],
   "source": [
    "print('Train Dataset Size:', mnist_train_ds.get_dataset_size(), 'Testing Dataset Size:', mnist_test_ds.get_dataset_size())"
   ]
  },
  {
   "cell_type": "markdown",
   "id": "17bad4c3",
   "metadata": {},
   "source": [
    "## Defining a Neural Network (LeNet5)\n",
    "\n",
    "![](https://segmentfault.com/img/remote/1460000023074059)\n",
    "\n",
    "1. 2 Convolution layer (kernel: 5x5)\n",
    "2. 3 Dense layer of\n",
    "\n",
    "To define network we need to define a class which extends `nn.Cell`.\n",
    "\n",
    "This class have two parts, the `__init__` and the `construct` function:\n",
    "- `__init__` all neural network operators will be defined in this function.\n",
    "- `construct` all neural network graph will be defined in this function.\n",
    "\n",
    "The common neural network layers are the `mindspore.nn.Conv2D`, `mindspore.nn.Dense`, to use them correctly user are required to define the input and output channels/nodes for these function.\n",
    "\n",
    "The [mindspore.nn.Conv2d](https://www.mindspore.cn/doc/api_python/en/r1.2/mindspore/nn/mindspore.nn.Conv2d.html#mindspore.nn.Conv2d) requires the **kernel size**, the **input channel** and **output channel** sizes. The input channels are based on the number of channels in the images or in the intermediate steps, and the output channels can be freely defined. \n",
    "\n",
    "The [mindspore.nn.Dense](https://www.mindspore.cn/doc/api_python/en/r1.2/mindspore/nn/mindspore.nn.Dense.html#mindspore.nn.Dense) (Fully connected layers) requires the **numbers of input node** and the **numbers of output nodes**. The number of input nodes are based on the nodes in the previous layers, usually we will be flattening the results from the convolution layers and pooling layers to use in the dense layer, some calculation maybe needed to find the number of nodes after the flattenning result, usually this is the number of channels * the width and height of each channels. \n",
    "\n",
    "Other common operators can be found in the [following list](https://www.mindspore.cn/doc/api_python/en/r1.2/mindspore/mindspore.nn.html#)."
   ]
  },
  {
   "cell_type": "code",
   "execution_count": 8,
   "id": "3723ebe7",
   "metadata": {},
   "outputs": [],
   "source": [
    "from mindspore import nn\n",
    "from mindspore.common.initializer import Normal"
   ]
  },
  {
   "cell_type": "code",
   "execution_count": 9,
   "id": "0c1c14a3",
   "metadata": {},
   "outputs": [],
   "source": [
    "\n",
    "input_image_shape = 28 # assume image is square\n",
    "\n",
    "class LeNet5(nn.Cell):\n",
    "    \n",
    "    def __init__(self, num_class=10, num_channel=1):\n",
    "        super(LeNet5, self).__init__()\n",
    "        \n",
    "        self.conv1 = nn.Conv2d(num_channel, 6, 5, pad_mode='valid')  # stride is 1\n",
    "        self.conv2 = nn.Conv2d(6, 16, 5, pad_mode='valid') \n",
    "        \n",
    "        self.fc1 = nn.Dense(16 * 4 * 4, 120, weight_init=Normal(0.02))\n",
    "        self.fc2 = nn.Dense(120, 84, weight_init=Normal(0.02))\n",
    "        self.fc3 = nn.Dense(84, num_class, weight_init=Normal(0.02))\n",
    "        \n",
    "        self.relu = nn.ReLU()\n",
    "        self.max_pool2d = nn.MaxPool2d(kernel_size=2, stride=2)\n",
    "        self.flatten = nn.Flatten()\n",
    "        \n",
    "        self.shape = ms.ops.Shape()\n",
    "        self.print = ms.ops.Print()\n",
    "\n",
    "    def construct(self, x):\n",
    "        x = self.conv1(x)\n",
    "        x = self.relu(x)\n",
    "        x = self.max_pool2d(x)\n",
    "        x = self.conv2(x)\n",
    "        x = self.relu(x) # this operation is static, so we can use it multiple times\n",
    "        x = self.max_pool2d(x)  # this operation is static, so we can use it multiple times\n",
    "        x = self.flatten(x)\n",
    "        x = self.fc1(x)\n",
    "        x = self.relu(x)\n",
    "        x = self.fc2(x)\n",
    "        x = self.relu(x)\n",
    "        x = self.fc3(x)\n",
    "        return x\n",
    "\n",
    "# creating an instance of LeNet5\n",
    "net = LeNet5()"
   ]
  },
  {
   "cell_type": "markdown",
   "id": "7eeea988",
   "metadata": {},
   "source": [
    "_To use these operations, one may need to understand how to calculate the number of nodes after convolution steps, moreover, you can use the [`mindspore.ops.Shape`](https://www.mindspore.cn/doc/api_python/en/r1.2/mindspore/ops/mindspore.ops.Shape.html#mindspore.ops.Shape) and [`mindspore.ops.Print`](https://www.mindspore.cn/doc/api_python/en/r1.2/mindspore/ops/mindspore.ops.Print.html#mindspore.ops.Print) to find out the shapes of the outputs._\n",
    "\n",
    "Knowing how to do the math for calculating number of nodes/image size are very useful to have a deep understanding of the convolution steps and fully-connected steps."
   ]
  },
  {
   "cell_type": "markdown",
   "id": "6df674c0",
   "metadata": {},
   "source": [
    "You might confused on how `16 * 4 * 4` is used as the input of the first dense layer.\n",
    "\n",
    "The below class calculates the input and output channels and nodes dynamically and design the model that way."
   ]
  },
  {
   "cell_type": "code",
   "execution_count": 10,
   "id": "2897b742",
   "metadata": {},
   "outputs": [],
   "source": [
    "input_image_shape = 28 # assume image is square\n",
    "\n",
    "class LeNet5_dynamic(nn.Cell):\n",
    "    \n",
    "    def __init__(self, num_class=10, num_channel=1):\n",
    "        super(LeNet5_dynamic, self).__init__()\n",
    "        \n",
    "        conv_channels_1 = 6\n",
    "        conv_channels_2 = 16\n",
    "        \n",
    "        kernel_size_1 = kernel_size_2 = 5\n",
    "        \n",
    "        self.conv1 = nn.Conv2d(num_channel, conv_channels_1, kernel_size_1, pad_mode='valid')  # stride is 1\n",
    "        self.conv2 = nn.Conv2d(conv_channels_1, conv_channels_2, kernel_size_2, pad_mode='valid')  # stride is 1\n",
    "        \n",
    "        conv_output_size_1 = math.ceil((input_image_shape - (kernel_size_1-1)) / 1) # (input image shape - (kernel size - 1)) / stride\n",
    "        max_pooling_output_size_1 = math.ceil((conv_output_size_1 - (2-1)) / 2) #  1 + (conv 1 image shape - (kernel size - 1)) / stride\n",
    "        conv_output_size_2 = math.ceil((max_pooling_output_size_1 - (kernel_size_2-1)) / 1)  # \n",
    "        max_pooling_output_size_2 = math.ceil((conv_output_size_2 - (2-1)) / 2)  # \n",
    "        \n",
    "        dense_nodes_1 = 120\n",
    "        dense_nodes_2 = 84\n",
    "        \n",
    "        self.fc1 = nn.Dense(conv_channels_2 * max_pooling_output_size_2 * max_pooling_output_size_2, dense_nodes_1, weight_init=Normal(0.02))\n",
    "        self.fc2 = nn.Dense(dense_nodes_1, dense_nodes_2, weight_init=Normal(0.02))\n",
    "        self.fc3 = nn.Dense(dense_nodes_2, num_class, weight_init=Normal(0.02))\n",
    "        \n",
    "        self.relu = nn.ReLU()\n",
    "        self.max_pool2d = nn.MaxPool2d(kernel_size=2, stride=2)\n",
    "        self.flatten = nn.Flatten()\n",
    "        \n",
    "        self.shape = ms.ops.Shape()\n",
    "        self.print = ms.ops.Print()\n",
    "\n",
    "    def construct(self, x):\n",
    "        \n",
    "        x = self.conv1(x)\n",
    "        x = self.relu(x)\n",
    "        self.print(self.shape(x))  # use print and shape to find out the shape if you are uncertain.\n",
    "        \n",
    "        x = self.max_pool2d(x)\n",
    "        self.print(self.shape(x))\n",
    "        \n",
    "        x = self.conv2(x)\n",
    "        x = self.relu(x)  \n",
    "        self.print(self.shape(x))\n",
    "        \n",
    "        x = self.max_pool2d(x) # this operation is static, so we can use it multiple times\n",
    "        self.print(self.shape(x))\n",
    "        \n",
    "        x = self.flatten(x)\n",
    "        \n",
    "        self.print(self.shape(x))\n",
    "        \n",
    "        x = self.fc1(x)\n",
    "        x = self.relu(x)\n",
    "        x = self.fc2(x)\n",
    "        x = self.relu(x)\n",
    "        x = self.fc3(x)\n",
    "        return x"
   ]
  },
  {
   "cell_type": "code",
   "execution_count": 11,
   "id": "82ae28a7",
   "metadata": {},
   "outputs": [
    {
     "data": {
      "text/plain": [
       "Tensor(shape=[128, 10], dtype=Float32, value=\n",
       "[[-1.84273340e-05,  1.08674303e-05, -4.20350116e-05 ... -9.21719493e-06,  1.27122530e-05,  3.81162408e-06],\n",
       " [-1.34306847e-05,  5.85553971e-06, -3.39630642e-05 ... -7.71376290e-06,  1.11598420e-05,  6.78545530e-06],\n",
       " [-1.01408659e-07,  2.85978535e-06, -3.46485685e-05 ...  7.12275050e-06,  1.51887889e-05,  3.11529357e-06],\n",
       " ...\n",
       " [-1.18787138e-05,  1.02931617e-05, -3.42810017e-05 ... -1.44803507e-05,  2.88729461e-06,  7.30628017e-07],\n",
       " [-2.48906872e-07,  1.89981620e-05, -3.19654901e-05 ... -1.10815563e-05,  2.06418881e-05,  8.18796434e-06],\n",
       " [ 1.46894581e-06,  1.54791669e-05, -4.20340730e-05 ... -5.53950485e-06,  1.45966933e-05,  1.25606666e-05]])"
      ]
     },
     "execution_count": 11,
     "metadata": {},
     "output_type": "execute_result"
    }
   ],
   "source": [
    "net(i['image'])"
   ]
  },
  {
   "cell_type": "markdown",
   "id": "60a10deb",
   "metadata": {
    "tags": []
   },
   "source": [
    "## Defining a Model\n",
    "\n",
    "The models in MindSpore requires 3 parameters\n",
    "- the network\n",
    "- the optimizer [MindSpore Optimizer Functions](https://www.mindspore.cn/doc/api_python/zh-CN/r1.2/mindspore/mindspore.nn.html#optimizer-functions)\n",
    "- the loss function [MindSpore Loss Functions](https://www.mindspore.cn/doc/api_python/zh-CN/r1.2/mindspore/mindspore.nn.html#loss-functions)\n",
    "\n",
    "The optimizers is the method to reduces the loss, and the loss function measures the evaluation performance of the network.\n",
    "\n",
    "The optimizers have one required parameters which is the network's parameters. These parameters, can be obtained by `net.trainable_params()`"
   ]
  },
  {
   "cell_type": "code",
   "execution_count": 12,
   "id": "55feab5c",
   "metadata": {},
   "outputs": [],
   "source": [
    "loss = ms.nn.SoftmaxCrossEntropyWithLogits(sparse=True, reduction='mean')\n",
    "optimizers = ms.nn.Adam(net.trainable_params(), learning_rate=0.01)\n",
    "\n",
    "model = ms.Model(\n",
    "    net,\n",
    "    loss,\n",
    "    optimizers, \n",
    "    metrics={\"Accuracy\": ms.nn.Accuracy()}\n",
    ")"
   ]
  },
  {
   "cell_type": "markdown",
   "id": "38e471d6",
   "metadata": {},
   "source": [
    "## Training the model\n",
    "\n",
    "We might want to monitor the _loss changes_, and _create checkpoints_ for model at few epoches."
   ]
  },
  {
   "cell_type": "code",
   "execution_count": 13,
   "id": "e532e2e3",
   "metadata": {},
   "outputs": [
    {
     "name": "stdout",
     "output_type": "stream",
     "text": [
      "epoch: 1 step: 1875, loss is 0.012101438\n",
      "epoch: 2 step: 1875, loss is 0.2868235\n",
      "epoch: 3 step: 1875, loss is 0.060082514\n",
      "epoch: 4 step: 1875, loss is 0.018050924\n",
      "epoch: 5 step: 1875, loss is 0.15316434\n"
     ]
    }
   ],
   "source": [
    "from mindspore.train.callback import ModelCheckpoint, CheckpointConfig, LossMonitor\n",
    "\n",
    "mnist_train_ds = create_dataset(mnist_train_dataset_path, 32)\n",
    "\n",
    "# 设置模型保存参数\n",
    "config_ck = CheckpointConfig(save_checkpoint_steps=1875, keep_checkpoint_max=10)\n",
    "# 应用模型保存参数\n",
    "ckpoint = ModelCheckpoint(prefix=\"checkpoint_lenet\", directory='./checkpoints', config=config_ck)\n",
    "\n",
    "model.train(epoch=5, train_dataset=mnist_train_ds, callbacks=[ckpoint, LossMonitor(125)], dataset_sink_mode=True)"
   ]
  },
  {
   "cell_type": "markdown",
   "id": "21c9f25e",
   "metadata": {},
   "source": [
    "Few things to note here:\n",
    "1. The `train_dataset`, expects the last column to be the labels. You can use `dataset.get_col_names()` to check which column is the lables.\n",
    "2. Each each instance of dataset can only be used once. Therefore we put the create_dataset in this cell."
   ]
  },
  {
   "cell_type": "markdown",
   "id": "06f95274",
   "metadata": {
    "tags": []
   },
   "source": [
    "## Show results"
   ]
  },
  {
   "cell_type": "code",
   "execution_count": 14,
   "id": "fc0c4a54",
   "metadata": {},
   "outputs": [
    {
     "data": {
      "image/png": "[encoded data removed]",
      "text/plain": [
       "<Figure size 640x480 with 1 Axes>"
      ]
     },
     "metadata": {},
     "output_type": "display_data"
    },
    {
     "data": {
      "image/png": "[encoded data removed]",
      "text/plain": [
       "<Figure size 640x480 with 1 Axes>"
      ]
     },
     "metadata": {},
     "output_type": "display_data"
    },
    {
     "data": {
      "image/png": "[encoded data removed]",
      "text/plain": [
       "<Figure size 640x480 with 1 Axes>"
      ]
     },
     "metadata": {},
     "output_type": "display_data"
    }
   ],
   "source": [
    "get_first_3 = 0\n",
    "for datas in mnist_test_ds.create_dict_iterator():\n",
    "    predictions = net(datas['image'])\n",
    "    for image, label, pred in zip(datas['image'], datas['label'], predictions):\n",
    "        image = image.asnumpy()[0]\n",
    "        plt.imshow(image)\n",
    "        plt.text(0,1,f'label: {label}', c='white')\n",
    "        plt.text(0,2,f'predction: {np.argmax(pred)}', c='white')\n",
    "        plt.show()\n",
    "        get_first_3 += 1\n",
    "        if get_first_3 >= 3:\n",
    "            break;\n",
    "    if get_first_3 >= 3:\n",
    "        break;"
   ]
  },
  {
   "cell_type": "code",
   "execution_count": null,
   "id": "6eeb817b",
   "metadata": {},
   "outputs": [],
   "source": []
  }
 ],
 "metadata": {
  "kernelspec": {
   "display_name": "MindSpore-1.2.0-gpu",
   "language": "python",
   "name": "mindspore-1.2.0-gpu"
  },
  "language_info": {
   "codemirror_mode": {
    "name": "ipython",
    "version": 3
   },
   "file_extension": ".py",
   "mimetype": "text/x-python",
   "name": "python",
   "nbconvert_exporter": "python",
   "pygments_lexer": "ipython3",
   "version": "3.7.10"
  }
 },
 "nbformat": 4,
 "nbformat_minor": 5
}
